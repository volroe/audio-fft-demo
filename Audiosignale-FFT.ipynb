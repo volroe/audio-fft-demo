{
 "cells": [
  {
   "cell_type": "code",
   "execution_count": null,
   "metadata": {
    "tags": []
   },
   "outputs": [],
   "source": [
    "%matplotlib inline\n",
    "\n",
    "import matplotlib.pyplot as plt\n",
    "import numpy as np\n",
    "\n",
    "from scipy import io\n",
    "from tqdm.auto import tqdm"
   ]
  },
  {
   "cell_type": "code",
   "execution_count": null,
   "metadata": {
    "tags": []
   },
   "outputs": [],
   "source": [
    "# Implementierung der DFT wie in Gleichung 3.3\n",
    "def myDFT(f):\n",
    "    N = len(f)\n",
    "    F = np.zeros(N,dtype=complex)\n",
    "    roots = np.array([np.exp(-2*np.pi*1j*n/N) for n in range(N)])\n",
    "    for k in tqdm(range(N)):\n",
    "        F[k] = np.sum(f * roots**k)\n",
    "    return F/N"
   ]
  },
  {
   "cell_type": "code",
   "execution_count": null,
   "metadata": {
    "tags": []
   },
   "outputs": [],
   "source": [
    "rate, data1 = io.wavfile.read(\"C.wav\")\n",
    "_   , data2 = io.wavfile.read(\"E.wav\")\n",
    "\n",
    "fig, (ax1, ax2) = plt.subplots(1, 2,sharey=True,figsize=[12, 6])\n",
    "\n",
    "ax1.plot(data1)\n",
    "ax1.set_xlabel(\"Zeit [sample]\")\n",
    "ax1.set_ylabel(\"Amplitude [a.u.]\")\n",
    "ax1.set_title(\"C.wav\")\n",
    "\n",
    "ax2.plot(data2,color='orange')\n",
    "ax2.set_xlabel(\"Zeit [sample]\")\n",
    "ax2.set_title(\"E.wav\")\n",
    "\n",
    "plt.show()"
   ]
  },
  {
   "cell_type": "code",
   "execution_count": null,
   "metadata": {
    "tags": []
   },
   "outputs": [],
   "source": [
    "Y1naive = myDFT(data1)"
   ]
  },
  {
   "cell_type": "code",
   "execution_count": null,
   "metadata": {
    "tags": []
   },
   "outputs": [],
   "source": [
    "%%time \n",
    "Y1    = np.fft.fft(data1)\n",
    "Y2    = np.fft.fft(data2)"
   ]
  },
  {
   "cell_type": "code",
   "execution_count": null,
   "metadata": {},
   "outputs": [],
   "source": [
    "fig, ax = plt.subplots(constrained_layout=True)\n",
    "freq1 = np.fft.fftfreq(len(data1), 1.0/rate)\n",
    "freq2 = np.fft.fftfreq(len(data2), 1.0/rate)\n",
    "ax.plot(freq1, np.abs(Y1))\n",
    "ax.plot(freq2, np.abs(Y2))\n",
    "\n",
    "plt.xlabel(\"Frequenz [Hz]\")\n",
    "plt.ylabel(\"Intensität [a.u.]\")\n",
    "plt.show()"
   ]
  },
  {
   "cell_type": "code",
   "execution_count": null,
   "metadata": {
    "tags": []
   },
   "outputs": [],
   "source": [
    "fig, ax = plt.subplots(constrained_layout=True)\n",
    "ax.plot(freq1, np.abs(Y1))\n",
    "ax.plot(freq2, np.abs(Y2))\n",
    "plt.xlabel(\"Frequenz [Hz]\")\n",
    "plt.ylabel(\"Intensität [a.u.]\")\n",
    "plt.axis([0, 4E+3, 0, 1.1*np.max(np.abs(Y1))])\n",
    "\n",
    "ax2 = ax.twiny()\n",
    "ax2.set_xticks([880*pow(2,1/12)**i for i in [3,5,7,8,10,12,14,15]])\n",
    "ax2.set_xbound(ax.get_xbound())\n",
    "ax2.set_xticklabels([\"C\",\"D\",\"E\",\"F\",\"G\",\"A\",\"H\",\"C\"])\n",
    "\n",
    "plt.show()"
   ]
  },
  {
   "cell_type": "markdown",
   "metadata": {},
   "source": [
    "<br><br><br><br><br><br>\n",
    "****\n",
    "### Zusatz: Demonstration von Zero-Padding und Fensterfunktionen "
   ]
  },
  {
   "cell_type": "code",
   "execution_count": null,
   "metadata": {
    "tags": []
   },
   "outputs": [],
   "source": [
    "from scipy.signal.windows import hamming\n",
    "N1 = len(data1)\n",
    "N2 = len(data2)\n",
    "\n",
    "# Wichte das Eingangssignal mit Hamming-Fensterfkt.\n",
    "# und füge 2N Nullen an vor der FFT\n",
    "Y1w = np.fft.fft(hamming(N1)*data1,3*N1)\n",
    "Y2w = np.fft.fft(hamming(N2)*data2,3*N2)\n",
    "\n",
    "fig, ax = plt.subplots(constrained_layout=True)\n",
    "freq1w = np.fft.fftfreq(len(Y1w), 1.0/rate)\n",
    "freq2w = np.fft.fftfreq(len(Y2w), 1.0/rate)\n",
    "ax.plot(freq1w, np.abs(Y1w))\n",
    "ax.plot(freq2w, np.abs(Y2w))\n",
    "\n",
    "plt.xlabel(\"Frequenz [Hz]\")\n",
    "plt.ylabel(\"Intensität [a.u.]\")\n",
    "plt.show()"
   ]
  }
 ],
 "metadata": {
  "kernelspec": {
   "display_name": "Python 3 (ipykernel)",
   "language": "python",
   "name": "python3"
  },
  "language_info": {
   "codemirror_mode": {
    "name": "ipython",
    "version": 3
   },
   "file_extension": ".py",
   "mimetype": "text/x-python",
   "name": "python",
   "nbconvert_exporter": "python",
   "pygments_lexer": "ipython3",
   "version": "3.10.12"
  }
 },
 "nbformat": 4,
 "nbformat_minor": 4
}
